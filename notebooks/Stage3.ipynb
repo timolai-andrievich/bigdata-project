{
 "cells": [
  {
   "cell_type": "markdown",
   "id": "86820e77666d8529",
   "metadata": {
    "collapsed": false
   },
   "source": [
    "# Stage 3\n",
    "## 1. Running Spark Apps"
   ]
  },
  {
   "cell_type": "code",
   "execution_count": 1,
   "id": "initial_id",
   "metadata": {
    "ExecuteTime": {
     "end_time": "2024-05-09T19:48:45.827506Z",
     "start_time": "2024-05-09T19:48:33.128707Z"
    },
    "collapsed": true
   },
   "outputs": [],
   "source": [
    "from pyspark.sql import SparkSession\n",
    "\n",
    "# Add here your team number teamx\n",
    "team = \"team31\"\n",
    "\n",
    "# location of your Hive database in HDFS\n",
    "warehouse = \"project/hive/warehouse\"\n",
    "\n",
    "spark = SparkSession.builder\\\n",
    "        .appName(\"{} - spark ML\".format(team))\\\n",
    "        .master(\"yarn\")\\\n",
    "        .config(\"hive.metastore.uris\", \"thrift://hadoop-02.uni.innopolis.ru:9883\")\\\n",
    "        .config(\"spark.sql.warehouse.dir\", warehouse)\\\n",
    "        .config(\"spark.sql.avro.compression.codec\", \"snappy\")\\\n",
    "        .enableHiveSupport()\\\n",
    "        .getOrCreate()"
   ]
  },
  {
   "cell_type": "code",
   "execution_count": 2,
   "id": "d0baa5f6394fa59c",
   "metadata": {
    "ExecuteTime": {
     "end_time": "2024-05-09T19:48:52.374329Z",
     "start_time": "2024-05-09T19:48:45.829599Z"
    },
    "collapsed": false
   },
   "outputs": [
    {
     "name": "stdout",
     "output_type": "stream",
     "text": [
      "+--------------------+\n",
      "|           namespace|\n",
      "+--------------------+\n",
      "|             default|\n",
      "|             root_db|\n",
      "|     team0_projectdb|\n",
      "|team12_hive_proje...|\n",
      "|    team13_projectdb|\n",
      "|    team14_projectdb|\n",
      "|    team15_projectdb|\n",
      "|    team16_projectdb|\n",
      "|    team17_projectdb|\n",
      "|    team18_projectdb|\n",
      "|    team19_projectdb|\n",
      "|     team1_projectdb|\n",
      "|    team20_projectdb|\n",
      "|    team21_projectdb|\n",
      "|    team22_projectdb|\n",
      "|    team23_projectdb|\n",
      "|    team24_projectdb|\n",
      "|    team25_projectdb|\n",
      "|    team26_projectdb|\n",
      "|    team27_projectdb|\n",
      "+--------------------+\n",
      "only showing top 20 rows\n",
      "\n",
      "++\n",
      "||\n",
      "++\n",
      "++\n",
      "+----------------+--------------------+-----------+\n",
      "|       namespace|           tableName|isTemporary|\n",
      "+----------------+--------------------+-----------+\n",
      "|team31_projectdb|          checkpoint|      false|\n",
      "|team31_projectdb|current_market_va...|      false|\n",
      "|team31_projectdb|current_owners_pa...|      false|\n",
      "|team31_projectdb|market_values_dis...|      false|\n",
      "|team31_projectdb|  mint_holding_times|      false|\n",
      "|team31_projectdb|               mints|      false|\n",
      "|team31_projectdb|                nfts|      false|\n",
      "|team31_projectdb|ownership_transit...|      false|\n",
      "|team31_projectdb|          q1_results|      false|\n",
      "|team31_projectdb|          q2_results|      false|\n",
      "|team31_projectdb|          q3_results|      false|\n",
      "|team31_projectdb|          q4_results|      false|\n",
      "|team31_projectdb|          q5_results|      false|\n",
      "|team31_projectdb|transfer_holding_...|      false|\n",
      "|team31_projectdb|transfer_statisti...|      false|\n",
      "|team31_projectdb|transfer_values_q...|      false|\n",
      "|team31_projectdb|transfer_values_q...|      false|\n",
      "|team31_projectdb|transfer_values_q...|      false|\n",
      "|team31_projectdb|           transfers|      false|\n",
      "|team31_projectdb|     transfers_mints|      false|\n",
      "+----------------+--------------------+-----------+\n"
     ]
    }
   ],
   "source": [
    "db_name = f\"{team}_projectdb\"\n",
    "\n",
    "spark.sql(\"SHOW DATABASES\").show()\n",
    "spark.sql(f\"USE {db_name}\").show()\n",
    "spark.sql(\"SHOW TABLES\").show()"
   ]
  },
  {
   "cell_type": "markdown",
   "id": "3d443746d5cdcae3",
   "metadata": {
    "collapsed": false
   },
   "source": [
    "## 2. Read Hive tables"
   ]
  },
  {
   "cell_type": "code",
   "execution_count": 3,
   "id": "34732b110a600ed6",
   "metadata": {
    "ExecuteTime": {
     "end_time": "2024-05-09T19:48:53.677194Z",
     "start_time": "2024-05-09T19:48:52.375739Z"
    },
    "collapsed": false
   },
   "outputs": [
    {
     "name": "stdout",
     "output_type": "stream",
     "text": [
      "[Table(name='checkpoint', database='team31_projectdb', description=None, tableType='EXTERNAL', isTemporary=False), Table(name='current_market_values', database='team31_projectdb', description=None, tableType='EXTERNAL', isTemporary=False), Table(name='current_owners_partitioned', database='team31_projectdb', description=None, tableType='EXTERNAL', isTemporary=False), Table(name='market_values_distribution', database='team31_projectdb', description=None, tableType='EXTERNAL', isTemporary=False), Table(name='mint_holding_times', database='team31_projectdb', description=None, tableType='EXTERNAL', isTemporary=False), Table(name='mints', database='team31_projectdb', description=None, tableType='EXTERNAL', isTemporary=False), Table(name='nfts', database='team31_projectdb', description=None, tableType='EXTERNAL', isTemporary=False), Table(name='ownership_transitions', database='team31_projectdb', description=None, tableType='EXTERNAL', isTemporary=False), Table(name='q1_results', database='team31_projectdb', description=None, tableType='MANAGED', isTemporary=False), Table(name='q2_results', database='team31_projectdb', description=None, tableType='MANAGED', isTemporary=False), Table(name='q3_results', database='team31_projectdb', description=None, tableType='MANAGED', isTemporary=False), Table(name='q4_results', database='team31_projectdb', description=None, tableType='MANAGED', isTemporary=False), Table(name='q5_results', database='team31_projectdb', description=None, tableType='MANAGED', isTemporary=False), Table(name='transfer_holding_times', database='team31_projectdb', description=None, tableType='EXTERNAL', isTemporary=False), Table(name='transfer_statistics_by_address', database='team31_projectdb', description=None, tableType='EXTERNAL', isTemporary=False), Table(name='transfer_values_quantile_10_distribution_per_address', database='team31_projectdb', description=None, tableType='EXTERNAL', isTemporary=False), Table(name='transfer_values_quantile_25_distribution_per_address', database='team31_projectdb', description=None, tableType='EXTERNAL', isTemporary=False), Table(name='transfer_values_quartile_10_distribution_per_address', database='team31_projectdb', description=None, tableType='EXTERNAL', isTemporary=False), Table(name='transfers', database='team31_projectdb', description=None, tableType='EXTERNAL', isTemporary=False), Table(name='transfers_mints', database='team31_projectdb', description=None, tableType='EXTERNAL', isTemporary=False)]\n"
     ]
    }
   ],
   "source": [
    "print(spark.catalog.listTables(db_name))"
   ]
  },
  {
   "cell_type": "code",
   "execution_count": 22,
   "id": "595f483f13d0ac57",
   "metadata": {
    "ExecuteTime": {
     "end_time": "2024-05-09T20:09:06.267017Z",
     "start_time": "2024-05-09T20:08:54.290734Z"
    },
    "collapsed": false
   },
   "outputs": [
    {
     "name": "stdout",
     "output_type": "stream",
     "text": [
      "root\n",
      " |-- token_id: string (nullable = true)\n",
      " |-- timestamp: integer (nullable = true)\n",
      " |-- nft_address: string (nullable = true)\n",
      " |-- transaction_value: float (nullable = true)\n",
      "+--------+----------+--------------------+-----------------+\n",
      "|token_id| timestamp|         nft_address|transaction_value|\n",
      "+--------+----------+--------------------+-----------------+\n",
      "|    2970|1630824455|0x8Ca5209d8CCe34b...|              0.0|\n",
      "|    1115|1628128263|0xd448E6CCA10ff5d...|     9.9999998E16|\n",
      "|  661252|1630824788|0x1dfe7Ca09e99d10...|              0.0|\n",
      "|   90489|1630824861|0x1dfe7Ca09e99d10...|              0.0|\n",
      "|     952|1629043069|0x8184a482A5038B1...|    1.28000003E18|\n",
      "+--------+----------+--------------------+-----------------+\n",
      "only showing top 5 rows\n"
     ]
    },
    {
     "data": {
      "text/plain": [
       "631816"
      ]
     },
     "execution_count": 22,
     "metadata": {},
     "output_type": "execute_result"
    }
   ],
   "source": [
    "mints = spark.read.format(\"avro\").table(f\"{db_name}.mints\").select(\"token_id\", \"timestamp\", \"nft_address\", \"transaction_value\")\n",
    "mints.printSchema()\n",
    "mints.show(5)\n",
    "mints.count()"
   ]
  },
  {
   "cell_type": "code",
   "execution_count": 23,
   "id": "473419cb240970c9",
   "metadata": {
    "ExecuteTime": {
     "end_time": "2024-05-09T20:09:11.646733Z",
     "start_time": "2024-05-09T20:09:06.268272Z"
    },
    "collapsed": false
   },
   "outputs": [
    {
     "name": "stdout",
     "output_type": "stream",
     "text": [
      "root\n",
      " |-- token_id: string (nullable = true)\n",
      " |-- timestamp: integer (nullable = true)\n",
      " |-- transaction_value: float (nullable = true)\n",
      "+--------+----------+-----------------+\n",
      "|token_id| timestamp|transaction_value|\n",
      "+--------+----------+-----------------+\n",
      "|    7731|1630202720|     5.8999997E18|\n",
      "|93000048|1624715050|     9.9999998E16|\n",
      "|    7263|1632165910|    1.49999994E18|\n",
      "|    5913|1629735476|              0.0|\n",
      "|     169|1624231533|    1.29000004E17|\n",
      "+--------+----------+-----------------+\n",
      "only showing top 5 rows\n"
     ]
    },
    {
     "data": {
      "text/plain": [
       "380676"
      ]
     },
     "execution_count": 23,
     "metadata": {},
     "output_type": "execute_result"
    }
   ],
   "source": [
    "transfers = spark.read.format(\"avro\").table(f\"{db_name}.transfers\").select(\"token_id\", \"timestamp\", \"transaction_value\")\n",
    "transfers.printSchema()\n",
    "transfers.show(5)\n",
    "transfers.count()"
   ]
  },
  {
   "cell_type": "code",
   "execution_count": 24,
   "id": "641c1a49e4e917b4",
   "metadata": {
    "ExecuteTime": {
     "end_time": "2024-05-09T20:09:12.042051Z",
     "start_time": "2024-05-09T20:09:11.648182Z"
    },
    "collapsed": false
   },
   "outputs": [
    {
     "name": "stdout",
     "output_type": "stream",
     "text": [
      "root\n",
      " |-- address: string (nullable = true)\n",
      " |-- name: string (nullable = true)\n",
      "\n",
      "+--------------------+------------------+\n",
      "|             address|              name|\n",
      "+--------------------+------------------+\n",
      "|0x385eDC73Dd943b6...|    Silly Old Bear|\n",
      "|0xf6680e700394e7f...|        Astraglade|\n",
      "|0xcEb2EA7E904c74A...|                  |\n",
      "|0xfE303C462407Bf6...|     Image By Andy|\n",
      "|0x5e302f9EbA7B0E8...|PFP Ability Scores|\n",
      "+--------------------+------------------+\n",
      "only showing top 5 rows\n"
     ]
    },
    {
     "data": {
      "text/plain": [
       "9388"
      ]
     },
     "execution_count": 24,
     "metadata": {},
     "output_type": "execute_result"
    }
   ],
   "source": [
    "nfts = spark.read.format(\"avro\").table(f\"{db_name}.nfts\").select(\"address\", \"name\")\n",
    "nfts.printSchema()\n",
    "nfts.show(5)\n",
    "nfts.count()"
   ]
  },
  {
   "cell_type": "markdown",
   "id": "6094c0915dcdb2ac",
   "metadata": {
    "collapsed": false
   },
   "source": [
    "## 3. ML Modeling\n",
    "### 3.1 Feature Engineering"
   ]
  },
  {
   "cell_type": "code",
   "execution_count": 9,
   "id": "1e011f0bb2cb2893",
   "metadata": {
    "ExecuteTime": {
     "end_time": "2024-05-09T19:50:15.958544Z",
     "start_time": "2024-05-09T19:50:04.326352Z"
    },
    "collapsed": false
   },
   "outputs": [
    {
     "name": "stdout",
     "output_type": "stream",
     "text": [
      "+--------------------+----------+--------------------+--------------+--------------+---------------+--------------+\n",
      "|         nft_address|num_tokens|      avg_mint_price|max_mint_price|min_mint_price|first_mint_date|last_mint_date|\n",
      "+--------------------+----------+--------------------+--------------+--------------+---------------+--------------+\n",
      "|0xe5fAB3f3e33762E...|        54|6.296296467910808E15| 1.00000003E16|           0.0|     1630518131|    1630543090|\n",
      "|0xdAd298d2A9D7DF0...|        37|                 0.0|           0.0|           0.0|     1630884356|    1631937227|\n",
      "|0x11957A61aC1684E...|       282|3.500000043309577E17| 4.20000007E17|           0.0|     1629886854|    1630332557|\n",
      "|0xD9a3fCa910f76C8...|        94|1.332978718157547...|  5.9999999E17|           0.0|     1623417307|    1624391310|\n",
      "|0x2D9A757e4B5a3A9...|        38|1.042105268956864...|  5.9999999E17|           0.0|     1631657379|    1632494736|\n",
      "+--------------------+----------+--------------------+--------------+--------------+---------------+--------------+\n"
     ]
    }
   ],
   "source": [
    "from pyspark.sql import functions as F\n",
    "\n",
    "contract_stats = (\n",
    "    mints\n",
    "    .groupBy(\"nft_address\")\n",
    "    .agg(\n",
    "        F.countDistinct(\"token_id\").alias(\"num_tokens\"),\n",
    "        F.avg(\"transaction_value\").alias(\"avg_mint_price\"),\n",
    "        F.max(\"transaction_value\").alias(\"max_mint_price\"),\n",
    "        F.min(\"transaction_value\").alias(\"min_mint_price\"),\n",
    "        F.min(\"timestamp\").alias(\"first_mint_date\"),\n",
    "        F.max(\"timestamp\").alias(\"last_mint_date\"),\n",
    "    )\n",
    ")\n",
    "contract_stats.show(5)"
   ]
  },
  {
   "cell_type": "code",
   "execution_count": 39,
   "id": "29ace0e3d2f3f713",
   "metadata": {
    "ExecuteTime": {
     "end_time": "2024-05-09T20:29:16.432800Z",
     "start_time": "2024-05-09T20:29:15.499371Z"
    },
    "collapsed": false
   },
   "outputs": [
    {
     "name": "stdout",
     "output_type": "stream",
     "text": [
      "+-------------+-------------+--------+-------------+-------------+------------------+-----------------+--------------------+--------------------+\n",
      "|     token_id|last_tx_value|tx_count| min_tx_value| max_tx_value|first_tx_timestamp|last_tx_timestamp|           tx_values|       tx_timestamps|\n",
      "+-------------+-------------+--------+-------------+-------------+------------------+-----------------+--------------------+--------------------+\n",
      "|1000000000004|       9.9E18|       1|          0.0|          0.0|        1621456719|       1621456719|               [0.0]|        [1621456719]|\n",
      "|1000000000012|          0.0|       3|          0.0|          0.0|        1625827928|       1626100381|     [0.0, 0.0, 0.0]|[1625827928, 1626...|\n",
      "|    100000048|          0.0|       0|         null|         null|              null|             null|                  []|                  []|\n",
      "|    100000078| 7.9999999E17|       1|       1.8E19|       1.8E19|        1632123394|       1632123394|[1.80000004047162...|        [1632123394]|\n",
      "|    100000123|3.23999991E18|       1|1.99000005E18|1.99000005E18|        1626494858|       1626494858|[1.99000004779782...|        [1626494858]|\n",
      "+-------------+-------------+--------+-------------+-------------+------------------+-----------------+--------------------+--------------------+\n"
     ]
    }
   ],
   "source": [
    "import pyspark.sql.types as T\n",
    "\n",
    "def _get_last_n_txs(arr, n):\n",
    "    return arr[-n:]\n",
    "\n",
    "get_last_n_txs = F.udf(_get_last_n_txs, T.ArrayType(T.StructType([\n",
    "    T.StructField(\"timestamp\", T.LongType()),\n",
    "    T.StructField(\"transaction_value\", T.DoubleType()),\n",
    "])))\n",
    "\n",
    "LAST_N = 10\n",
    "\n",
    "nft_history = (\n",
    "    transfers\n",
    "    .groupBy(\"token_id\")\n",
    "    .agg(\n",
    "        F.sort_array(F.collect_list(F.struct(\"timestamp\", \"transaction_value\"))).alias(\"tx_data\"),\n",
    "    )\n",
    "    .withColumn(\"tx_data_except_last\", F.expr(\"slice(tx_data, 1, size(tx_data) - 1)\"))\n",
    "    .withColumn(\"last_tx\", F.element_at(\"tx_data\", -1))\n",
    "    .withColumn(\"last_tx_value\", F.col(\"last_tx.transaction_value\"))\n",
    "    .drop(\"last_tx\")\n",
    "    .drop(\"tx_data\")\n",
    "    # Overall stats (excluding last tx)\n",
    "    .withColumn(\"tx_count\", F.size(\"tx_data_except_last\"))\n",
    "    .withColumn(\"min_tx_value\", F.array_min(\"tx_data_except_last.transaction_value\"))\n",
    "    .withColumn(\"max_tx_value\", F.array_max(\"tx_data_except_last.transaction_value\"))\n",
    "    .withColumn(\"first_tx_timestamp\", F.element_at(\"tx_data_except_last.timestamp\", 1))\n",
    "    .withColumn(\"last_tx_timestamp\", F.element_at(\"tx_data_except_last.timestamp\", -1))\n",
    "    .withColumn(\"last_n_transactions\", get_last_n_txs(\"tx_data_except_last\", F.lit(LAST_N)))\n",
    "    .drop(\"tx_data_except_last\")\n",
    "    # History for the last N transactions\n",
    "    .withColumn(\"tx_values\", F.col(\"last_n_transactions.transaction_value\"))\n",
    "    .withColumn(\"tx_timestamps\", F.col(\"last_n_transactions.timestamp\"))\n",
    "    .drop(\"last_n_transactions\")\n",
    ")\n",
    "nft_history.show(5)"
   ]
  },
  {
   "cell_type": "code",
   "execution_count": 40,
   "id": "a81defac4e98db67",
   "metadata": {
    "ExecuteTime": {
     "end_time": "2024-05-09T20:29:18.025262Z",
     "start_time": "2024-05-09T20:29:16.434226Z"
    },
    "collapsed": false
   },
   "outputs": [
    {
     "name": "stdout",
     "output_type": "stream",
     "text": [
      "631816\n"
     ]
    }
   ],
   "source": [
    "features = (\n",
    "    mints.selectExpr(\"nft_address\", \"token_id\", \"timestamp as mint_timestamp\", \"transaction_value as mint_tx_value\")\n",
    "    .join(contract_stats, on=\"nft_address\", how=\"left\")\n",
    "    .join(nft_history, on=\"token_id\", how=\"left\")\n",
    "    .join(nfts, on=(mints.nft_address == nfts.address), how=\"left\")\n",
    "    .drop(\"nft_address\", \"address\")\n",
    ")\n",
    "print(features.count())"
   ]
  },
  {
   "cell_type": "code",
   "execution_count": 41,
   "id": "f247155d5a1b76ab",
   "metadata": {
    "ExecuteTime": {
     "end_time": "2024-05-09T20:29:21.894781Z",
     "start_time": "2024-05-09T20:29:18.992194Z"
    },
    "collapsed": false
   },
   "outputs": [
    {
     "name": "stdout",
     "output_type": "stream",
     "text": [
      "+--------+--------------+-------------+----------+--------------------+--------------+--------------+---------------+--------------+-------------+--------+------------+------------+------------------+-----------------+--------------------+--------------------+-------------+\n",
      "|token_id|mint_timestamp|mint_tx_value|num_tokens|      avg_mint_price|max_mint_price|min_mint_price|first_mint_date|last_mint_date|last_tx_value|tx_count|min_tx_value|max_tx_value|first_tx_timestamp|last_tx_timestamp|           tx_values|       tx_timestamps|         name|\n",
      "+--------+--------------+-------------+----------+--------------------+--------------+--------------+---------------+--------------+-------------+--------+------------+------------+------------------+-----------------+--------------------+--------------------+-------------+\n",
      "|  112994|    1630773556|          0.0|     12287|                 0.0|           0.0|           0.0|     1630769995|    1632578269|         null|    null|        null|        null|              null|             null|                null|                null|    More Loot|\n",
      "|    1371|    1628287231|2.99999995E17|      1025|7.164585205993205...| 2.99999988E18|           0.0|     1628287013|    1628394248|       2.3E17|     423|         0.0|      9.9E18|        1617973492|       1632567035|[1.39800000073826...|[1632479273, 1632...|Cute Pig Club|\n",
      "|   77875|    1630773376|          0.0|     12287|                 0.0|           0.0|           0.0|     1630769995|    1632578269|          0.0|       4|         0.0|         0.0|        1625989788|       1630580489|[0.0, 0.0, 0.0, 0.0]|[1625989788, 1628...|    More Loot|\n",
      "|     316|    1630133950| 9.9000001E16|        74|9.900000119514726...|  9.9000001E16|  9.9000001E16|     1630132861|    1630134575|1.00000003E16|     609|         0.0|      2.5E19|        1617296090|       1632572490|[0.0, 6.900000338...|[1632526621, 1632...|       Ribonz|\n",
      "|     172|    1629783883|       7.0E16|        22|1.272727293751459...| 3.50000012E17|           0.0|     1629759875|    1629787453| 3.9900001E16|     669|         0.0|      2.0E19|        1617453154|       1632575268|[8.49000015195013...|[1632517736, 1632...|     Hog Gang|\n",
      "+--------+--------------+-------------+----------+--------------------+--------------+--------------+---------------+--------------+-------------+--------+------------+------------+------------------+-----------------+--------------------+--------------------+-------------+\n"
     ]
    }
   ],
   "source": [
    "features.show(5)"
   ]
  },
  {
   "cell_type": "code",
   "execution_count": 42,
   "id": "1748dc7304ea74a4",
   "metadata": {
    "ExecuteTime": {
     "end_time": "2024-05-09T20:31:56.124769Z",
     "start_time": "2024-05-09T20:31:56.117788Z"
    },
    "collapsed": false
   },
   "outputs": [],
   "source": [
    "features = features.withColumnRenamed(\"last_tx_value\", \"label\")"
   ]
  },
  {
   "cell_type": "code",
   "execution_count": 54,
   "id": "29f38392079b6c98",
   "metadata": {
    "ExecuteTime": {
     "end_time": "2024-05-09T21:08:20.147121Z",
     "start_time": "2024-05-09T21:08:20.132140Z"
    },
    "collapsed": false
   },
   "outputs": [],
   "source": [
    "filtered_features = features.na.drop()"
   ]
  },
  {
   "cell_type": "code",
   "execution_count": 55,
   "id": "e8479e6fc30c6d2d",
   "metadata": {
    "ExecuteTime": {
     "end_time": "2024-05-09T21:08:52.457218Z",
     "start_time": "2024-05-09T21:08:26.045191Z"
    },
    "collapsed": false
   },
   "outputs": [
    {
     "data": {
      "text/plain": [
       "570887"
      ]
     },
     "execution_count": 55,
     "metadata": {},
     "output_type": "execute_result"
    }
   ],
   "source": [
    "filtered_features.count()"
   ]
  },
  {
   "cell_type": "markdown",
   "id": "a299f855af3b56fa",
   "metadata": {
    "collapsed": false
   },
   "source": [
    "### 3.2 Feature Extraction Pipeline"
   ]
  },
  {
   "cell_type": "code",
   "execution_count": 56,
   "id": "d4c3b9abd767121e",
   "metadata": {
    "ExecuteTime": {
     "end_time": "2024-05-09T21:08:56.810706Z",
     "start_time": "2024-05-09T21:08:56.808042Z"
    },
    "collapsed": false
   },
   "outputs": [],
   "source": [
    "date_cols = [\"mint_timestamp\", \"first_mint_date\", \"last_mint_date\", \"first_tx_timestamp\", \"last_tx_timestamp\"]\n",
    "text_cols = [\"name\"]"
   ]
  },
  {
   "cell_type": "code",
   "execution_count": 65,
   "id": "5319e784f826f499",
   "metadata": {
    "ExecuteTime": {
     "end_time": "2024-05-09T21:14:19.444169Z",
     "start_time": "2024-05-09T21:14:12.662272Z"
    },
    "collapsed": false
   },
   "outputs": [
    {
     "name": "stdout",
     "output_type": "stream",
     "text": [
      "+--------+-------------------+-------------+----------+--------------------+--------------+--------------+-------------------+-------------------+-------------+--------+------------+-------------+-------------------+-------------------+--------------------+--------------------+-----------------+\n",
      "|token_id|     mint_timestamp|mint_tx_value|num_tokens|      avg_mint_price|max_mint_price|min_mint_price|    first_mint_date|     last_mint_date|        label|tx_count|min_tx_value| max_tx_value| first_tx_timestamp|  last_tx_timestamp|           tx_values|       tx_timestamps|             name|\n",
      "+--------+-------------------+-------------+----------+--------------------+--------------+--------------+-------------------+-------------------+-------------+--------+------------+-------------+-------------------+-------------------+--------------------+--------------------+-----------------+\n",
      "|   10351|2021-08-20 21:56:27|       7.5E19|      1011|2.569362058904216...|        7.5E19|           0.0|2021-08-14 01:00:33|2021-09-23 17:05:56|5.39999985E17|      39|         0.0|1.85399994E18|2021-05-20 16:54:16|2021-09-25 00:22:23|[5.99999990584049...|[1630912233, 1631...|    Floyd's World|\n",
      "|   21331|2021-09-17 12:54:50|          0.0|       981|4.925586189853352E16| 1.68000003E18|           0.0|2021-09-16 05:05:23|2021-09-25 06:59:10|          0.0|       7|         0.0|       4.6E17|2021-04-09 01:31:09|2021-09-08 13:22:17|[0.0, 0.0, 0.0, 0...|[1617921069, 1617...| MoonCatLootprint|\n",
      "|   10351|2021-08-17 22:43:01|          0.0|      1215|                 0.0|           0.0|           0.0|2021-08-04 11:23:46|2021-08-18 00:47:10|5.39999985E17|      39|         0.0|1.85399994E18|2021-05-20 16:54:16|2021-09-25 00:22:23|[5.99999990584049...|[1630912233, 1631...|      NFT Dungeon|\n",
      "|   10351|2021-07-28 00:37:54|3.50000012E17|      1063|3.675493912576648...|  7.0000001E18|           0.0|2021-07-26 13:14:11|2021-07-28 00:38:02|5.39999985E17|      39|         0.0|1.85399994E18|2021-05-20 16:54:16|2021-09-25 00:22:23|[5.99999990584049...|[1630912233, 1631...|      Stoner Cats|\n",
      "|   10351|2021-09-22 08:08:18|1.80000001E17|      1279|3.173073110006606...| 3.72120007E18| 2.24999995E15|2021-09-19 15:00:25|2021-09-22 12:55:45|5.39999985E17|      39|         0.0|1.85399994E18|2021-05-20 16:54:16|2021-09-25 00:22:23|[5.99999990584049...|[1630912233, 1631...|LordsOfLightPacks|\n",
      "+--------+-------------------+-------------+----------+--------------------+--------------+--------------+-------------------+-------------------+-------------+--------+------------+-------------+-------------------+-------------------+--------------------+--------------------+-----------------+\n"
     ]
    }
   ],
   "source": [
    "filtered_features_with_dt = filtered_features.selectExpr(*(f\"from_unixtime({col}) as {col}\" if col in date_cols else col for col in filtered_features.columns))\n",
    "filtered_features_with_dt.show(5)"
   ]
  },
  {
   "cell_type": "code",
   "execution_count": 57,
   "id": "9c2abbaeb3409516",
   "metadata": {
    "ExecuteTime": {
     "end_time": "2024-05-09T21:08:57.158315Z",
     "start_time": "2024-05-09T21:08:57.149663Z"
    },
    "collapsed": false
   },
   "outputs": [],
   "source": [
    "from pyspark.ml.feature import Tokenizer, Word2Vec, VectorAssembler, StandardScaler\n",
    "\n",
    "# Collection name encoding\n",
    "tokenizer = Tokenizer(inputCol=text_cols[0], outputCol=text_cols[0] + \"_tokens\")\n",
    "word2vec = Word2Vec(vectorSize=16, minCount=1, inputCol=tokenizer.getOutputCol(), outputCol=text_cols[0] + \"_w2v\")"
   ]
  },
  {
   "cell_type": "code",
   "execution_count": 58,
   "id": "ec9f2806b146a42",
   "metadata": {
    "ExecuteTime": {
     "end_time": "2024-05-09T21:08:57.419393Z",
     "start_time": "2024-05-09T21:08:57.410435Z"
    },
    "collapsed": false
   },
   "outputs": [],
   "source": [
    "import math\n",
    "\n",
    "from pyspark import keyword_only\n",
    "from pyspark.ml import Transformer\n",
    "from pyspark.ml.param.shared import HasInputCol, HasOutputCol, Param, Params, TypeConverters\n",
    "from pyspark.ml.util import DefaultParamsReadable, DefaultParamsWritable\n",
    "\n",
    "# Date encoding\n",
    "class DateCyclicalEncodingTransformer(Transformer, HasInputCol, HasOutputCol, DefaultParamsReadable, DefaultParamsWritable):\n",
    "    input_col = Param(Params._dummy(), \"input_col\", \"input column name.\",\n",
    "                      typeConverter=TypeConverters.toString)\n",
    "    output_col = Param(Params._dummy(), \"output_col\", \"output column name.\",\n",
    "                       typeConverter=TypeConverters.toString)\n",
    "\n",
    "    @keyword_only\n",
    "    def __init__(self, input_col: str = \"input\", output_col: str = \"output\"):\n",
    "        super(DateCyclicalEncodingTransformer, self).__init__()\n",
    "        self._setDefault(input_col=None, output_col=None)\n",
    "        kwargs = self._input_kwargs\n",
    "        self.set_params(**kwargs)\n",
    "\n",
    "    @keyword_only\n",
    "    def set_params(self, input_col: str = \"input\", output_col: str = \"output\"):\n",
    "        kwargs = self._input_kwargs\n",
    "        self._set(**kwargs)\n",
    "\n",
    "    def get_input_col(self):\n",
    "        return self.getOrDefault(self.input_col)\n",
    "\n",
    "    def get_output_col(self):\n",
    "        return self.getOrDefault(self.output_col)\n",
    "\n",
    "    def _transform(self, df):\n",
    "        input_col = self.get_input_col()\n",
    "        output_col = self.get_output_col()\n",
    "        df = df.withColumn(output_col + \"_year\", F.year(F.col(input_col)))\n",
    "        for col, val_count in ((\"month\", 12), (\"day\", 31), (\"hour\", 24), (\"minute\", 60), (\"second\", 60)):\n",
    "            df = (\n",
    "                df\n",
    "                .withColumn(output_col + f\"_{col}_sin\", F.sin(2 * math.pi * F.expr(f\"{col}({input_col})\") / val_count))\n",
    "                .withColumn(\n",
    "                    output_col + f\"_{col}_cos\", F.cos(2 * math.pi * F.expr(f\"{col}({input_col})\") / val_count)\n",
    "                )\n",
    "            )\n",
    "        return df\n",
    "    \n",
    "    def get_all_column_names(self):\n",
    "        output_col = self.get_output_col()\n",
    "        return [output_col + \"_year\"] + [output_col + f\"_{col}_sin\" for col in (\"month\", \"day\", \"hour\", \"minute\", \"second\")] + [output_col + f\"_{col}_cos\" for col in (\"month\", \"day\", \"hour\", \"minute\", \"second\")]"
   ]
  },
  {
   "cell_type": "code",
   "execution_count": 59,
   "id": "6c61991463deb6d1",
   "metadata": {
    "ExecuteTime": {
     "end_time": "2024-05-09T21:08:57.754761Z",
     "start_time": "2024-05-09T21:08:57.750129Z"
    },
    "collapsed": false
   },
   "outputs": [],
   "source": [
    "date_transformers = [DateCyclicalEncodingTransformer(input_col=col, output_col=\"encoded_\" + col) for col in date_cols]"
   ]
  },
  {
   "cell_type": "code",
   "execution_count": 60,
   "id": "83e3cb6b3cd1728c",
   "metadata": {
    "ExecuteTime": {
     "end_time": "2024-05-09T21:08:58.096806Z",
     "start_time": "2024-05-09T21:08:58.087212Z"
    },
    "collapsed": false
   },
   "outputs": [],
   "source": [
    "cols_to_assemble = [text_cols[0] + \"_w2v\"] + sum((dt.get_all_column_names() for dt in date_transformers), [])\n",
    "\n",
    "assembler = VectorAssembler(inputCols=cols_to_assemble, outputCol=\"raw_features\")\n",
    "scaler = StandardScaler(inputCol=\"raw_features\", outputCol=\"features\", withMean=True, withStd=True)"
   ]
  },
  {
   "cell_type": "code",
   "execution_count": 61,
   "id": "1ce59dd64acb6706",
   "metadata": {
    "ExecuteTime": {
     "end_time": "2024-05-09T21:08:58.412711Z",
     "start_time": "2024-05-09T21:08:58.409246Z"
    },
    "collapsed": false
   },
   "outputs": [],
   "source": [
    "from pyspark.ml import Pipeline\n",
    "\n",
    "pipeline = Pipeline(stages=[tokenizer, word2vec] + date_transformers + [assembler, scaler])"
   ]
  },
  {
   "cell_type": "code",
   "execution_count": 66,
   "id": "51b043db454a1eb7",
   "metadata": {
    "ExecuteTime": {
     "end_time": "2024-05-09T21:15:04.419157Z",
     "start_time": "2024-05-09T21:14:31.642177Z"
    },
    "collapsed": false
   },
   "outputs": [],
   "source": [
    "pipeline_model = pipeline.fit(filtered_features_with_dt)"
   ]
  },
  {
   "cell_type": "code",
   "execution_count": 68,
   "id": "ff1b23c11dee2d5d",
   "metadata": {
    "ExecuteTime": {
     "end_time": "2024-05-09T21:15:21.817697Z",
     "start_time": "2024-05-09T21:15:15.561861Z"
    },
    "collapsed": false
   },
   "outputs": [
    {
     "name": "stdout",
     "output_type": "stream",
     "text": [
      "+--------------------+-------------+\n",
      "|            features|        label|\n",
      "+--------------------+-------------+\n",
      "|[-2.4569591305176...|5.39999985E17|\n",
      "|[-0.1038806243314...|          0.0|\n",
      "|[-1.7667336791337...|5.39999985E17|\n",
      "|[0.63856358700349...|5.39999985E17|\n",
      "|[-0.0862136722249...|5.39999985E17|\n",
      "+--------------------+-------------+\n"
     ]
    }
   ],
   "source": [
    "transformed_features = pipeline_model.transform(filtered_features_with_dt).select(\"features\", \"label\")\n",
    "transformed_features.show(5)"
   ]
  },
  {
   "cell_type": "markdown",
   "id": "e2468218a1ee5c04",
   "metadata": {
    "collapsed": false
   },
   "source": [
    "### 3.3 Train-Test Split"
   ]
  },
  {
   "cell_type": "code",
   "execution_count": 69,
   "id": "b9c828cf79b4b2ce",
   "metadata": {
    "ExecuteTime": {
     "end_time": "2024-05-09T21:16:48.214960Z",
     "start_time": "2024-05-09T21:16:48.179528Z"
    },
    "collapsed": false
   },
   "outputs": [],
   "source": [
    "(train_data, test_data) = transformed_features.randomSplit([0.7, 0.3], seed=42)"
   ]
  },
  {
   "cell_type": "code",
   "execution_count": 73,
   "id": "1abc9195a476bfee",
   "metadata": {
    "ExecuteTime": {
     "end_time": "2024-05-09T21:19:57.127136Z",
     "start_time": "2024-05-09T21:19:25.261872Z"
    },
    "collapsed": false
   },
   "outputs": [],
   "source": [
    "train_data\\\n",
    "    .coalesce(1)\\\n",
    "    .write\\\n",
    "    .mode(\"overwrite\")\\\n",
    "    .format(\"json\")\\\n",
    "    .save(\"project/data/train\")"
   ]
  },
  {
   "cell_type": "code",
   "execution_count": 74,
   "id": "91d03e6ebf8581c",
   "metadata": {
    "ExecuteTime": {
     "end_time": "2024-05-09T21:20:21.632203Z",
     "start_time": "2024-05-09T21:19:57.128589Z"
    },
    "collapsed": false
   },
   "outputs": [],
   "source": [
    "test_data\\\n",
    "    .coalesce(1)\\\n",
    "    .write\\\n",
    "    .mode(\"overwrite\")\\\n",
    "    .format(\"json\")\\\n",
    "    .save(\"project/data/test\")"
   ]
  },
  {
   "cell_type": "code",
   "execution_count": 75,
   "id": "a346eac30a612b36",
   "metadata": {
    "ExecuteTime": {
     "end_time": "2024-05-09T21:20:28.417190Z",
     "start_time": "2024-05-09T21:20:25.655399Z"
    },
    "collapsed": false
   },
   "outputs": [],
   "source": [
    "!hdfs dfs -cat project/data/train/*.json > ../data/train.json"
   ]
  },
  {
   "cell_type": "code",
   "execution_count": 76,
   "id": "8193dbafafd6c54e",
   "metadata": {
    "ExecuteTime": {
     "end_time": "2024-05-09T21:20:33.068408Z",
     "start_time": "2024-05-09T21:20:30.868437Z"
    },
    "collapsed": false
   },
   "outputs": [],
   "source": [
    "!hdfs dfs -cat project/data/test/*.json > ../data/test.json"
   ]
  }
 ],
 "metadata": {
  "kernelspec": {
   "display_name": "Python 3",
   "language": "python",
   "name": "python3"
  },
  "language_info": {
   "codemirror_mode": {
    "name": "ipython",
    "version": 2
   },
   "file_extension": ".py",
   "mimetype": "text/x-python",
   "name": "python",
   "nbconvert_exporter": "python",
   "pygments_lexer": "ipython2",
   "version": "2.7.6"
  }
 },
 "nbformat": 4,
 "nbformat_minor": 5
}
